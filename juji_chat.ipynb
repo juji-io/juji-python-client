{
 "cells": [
  {
   "cell_type": "code",
   "execution_count": null,
   "id": "38a324d1",
   "metadata": {},
   "outputs": [],
   "source": [
    "import requests\n",
    "import websocket\n",
    "import json\n",
    "import logging\n",
    "from time import sleep"
   ]
  },
  {
   "cell_type": "markdown",
   "id": "e2b34989",
   "metadata": {},
   "source": [
    "## Request to create participation and get websocket url"
   ]
  },
  {
   "cell_type": "code",
   "execution_count": null,
   "id": "21d6eb67",
   "metadata": {},
   "outputs": [],
   "source": [
    "r = requests.post('http://localhost:8080/pre-chat/6287f9aa-a6b6-456f-8957-4e280007a47f', \n",
    "                  data={'firstName': 'John'})"
   ]
  },
  {
   "cell_type": "code",
   "execution_count": null,
   "id": "a79021fa",
   "metadata": {},
   "outputs": [],
   "source": [
    "r.raise_for_status()"
   ]
  },
  {
   "cell_type": "code",
   "execution_count": null,
   "id": "ec8214b0",
   "metadata": {},
   "outputs": [],
   "source": [
    "chat_info = r.json()\n",
    "chat_info"
   ]
  },
  {
   "cell_type": "code",
   "execution_count": null,
   "id": "648a9549",
   "metadata": {},
   "outputs": [],
   "source": [
    "chat_info['websocketUrl']"
   ]
  },
  {
   "cell_type": "code",
   "execution_count": null,
   "id": "c36e781a",
   "metadata": {},
   "outputs": [],
   "source": [
    "def on_message(ws, message):\n",
    "    # print(message)\n",
    "    parsed = json.loads(message)\n",
    "    if \"data\" in parsed:\n",
    "        if \"chat\" in parsed[\"data\"]:\n",
    "            chat_data = parsed[\"data\"][\"chat\"]\n",
    "            if \"role\" in chat_data and chat_data[\"role\"] == \"rep\":\n",
    "                if chat_data[\"type\"] == \"normal\":\n",
    "                    print(chat_data[\"text\"])\n",
    "                elif chat_data[\"type\"] == \"user-joined\":\n",
    "                    print(\"=== Welcome to Juji Bot ===\")\n",
    "\n",
    "def on_error(ws, error):\n",
    "    print(error)\n",
    "\n",
    "def on_close(ws, close_status_code, close_msg):\n",
    "    print(\"### closed ###\")\n",
    "\n",
    "def on_open(ws):\n",
    "    print(\"Opened connection\")"
   ]
  },
  {
   "cell_type": "markdown",
   "id": "78f4bdde",
   "metadata": {},
   "source": [
    "## Initiate Websocket App"
   ]
  },
  {
   "cell_type": "code",
   "execution_count": null,
   "id": "9dcb5c62",
   "metadata": {},
   "outputs": [],
   "source": [
    "websocket.enableTrace(True)\n",
    "ws = websocket.WebSocketApp(chat_info['websocketUrl'],\n",
    "                            on_open=on_open,\n",
    "                            on_message=on_message,\n",
    "                            on_error=on_error,\n",
    "                            on_close=on_close)"
   ]
  },
  {
   "cell_type": "code",
   "execution_count": null,
   "id": "d45d5c19",
   "metadata": {},
   "outputs": [],
   "source": [
    "ws.run_forever()"
   ]
  },
  {
   "cell_type": "markdown",
   "id": "564af02f",
   "metadata": {},
   "source": [
    "## Initiate Websocket"
   ]
  },
  {
   "cell_type": "code",
   "execution_count": null,
   "id": "9c19efbf",
   "metadata": {},
   "outputs": [],
   "source": [
    "ws = websocket.create_connection(chat_info['websocketUrl'])"
   ]
  },
  {
   "cell_type": "code",
   "execution_count": null,
   "id": "0d2dbd77",
   "metadata": {},
   "outputs": [],
   "source": [
    "ws.send(\"\"\"\n",
    "        subscription {{\n",
    "                chat(input: {{\n",
    "                    participationId: \"{0}\"\n",
    "                }}) {{\n",
    "                    role\n",
    "                    text\n",
    "                    type\n",
    "                    display{{\n",
    "                        data{{\n",
    "                            questions{{\n",
    "                                heading\n",
    "                                kind\n",
    "                            }}\n",
    "                        }}\n",
    "                    }}\n",
    "                }}\n",
    "            }}\"\"\".format(chat_info[\"participationId\"]))"
   ]
  },
  {
   "cell_type": "code",
   "execution_count": null,
   "id": "5677d360",
   "metadata": {},
   "outputs": [],
   "source": [
    "while True:\n",
    "    sleep(1)\n",
    "    result = ws.recv()\n",
    "    on_message(ws, result)"
   ]
  }
 ],
 "metadata": {
  "kernelspec": {
   "display_name": "Python [conda env:juji-client] *",
   "language": "python",
   "name": "conda-env-juji-client-py"
  },
  "language_info": {
   "codemirror_mode": {
    "name": "ipython",
    "version": 3
   },
   "file_extension": ".py",
   "mimetype": "text/x-python",
   "name": "python",
   "nbconvert_exporter": "python",
   "pygments_lexer": "ipython3",
   "version": "3.9.12"
  }
 },
 "nbformat": 4,
 "nbformat_minor": 5
}
